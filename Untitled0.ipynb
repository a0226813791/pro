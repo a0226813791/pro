{
  "nbformat": 4,
  "nbformat_minor": 0,
  "metadata": {
    "colab": {
      "provenance": [],
      "authorship_tag": "ABX9TyPLIaxuSAfY+jl42k3baPSt",
      "include_colab_link": true
    },
    "kernelspec": {
      "name": "python3",
      "display_name": "Python 3"
    },
    "language_info": {
      "name": "python"
    }
  },
  "cells": [
    {
      "cell_type": "markdown",
      "metadata": {
        "id": "view-in-github",
        "colab_type": "text"
      },
      "source": [
        "<a href=\"https://colab.research.google.com/github/a0226813791/pro/blob/main/Untitled0.ipynb\" target=\"_parent\"><img src=\"https://colab.research.google.com/assets/colab-badge.svg\" alt=\"Open In Colab\"/></a>"
      ]
    },
    {
      "cell_type": "code",
      "execution_count": null,
      "metadata": {
        "id": "yOZrkkvruTWz"
      },
      "outputs": [],
      "source": [
        ">>> import numpy as np\n",
        ">>> x = np.array([1, 2, 3])\n",
        ">>> x\n",
        "array([1, 2, 3])\n",
        ">>> y = np.arange(10)  # 類似 Python 的 range, 但是回傳 array\n",
        ">>> y\n",
        "array([0, 1, 2, 3, 4, 5, 6, 7, 8, 9])"
      ]
    }
  ]
}