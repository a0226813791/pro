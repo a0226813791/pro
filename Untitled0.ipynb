{
  "nbformat": 4,
  "nbformat_minor": 0,
  "metadata": {
    "colab": {
      "provenance": [],
      "authorship_tag": "ABX9TyPtrZvu5n9QWSNlVZzLgKo3",
      "include_colab_link": true
    },
    "kernelspec": {
      "name": "python3",
      "display_name": "Python 3"
    },
    "language_info": {
      "name": "python"
    }
  },
  "cells": [
    {
      "cell_type": "markdown",
      "metadata": {
        "id": "view-in-github",
        "colab_type": "text"
      },
      "source": [
        "<a href=\"https://colab.research.google.com/github/a0226813791/pro/blob/main/Untitled0.ipynb\" target=\"_parent\"><img src=\"https://colab.research.google.com/assets/colab-badge.svg\" alt=\"Open In Colab\"/></a>"
      ]
    },
    {
      "cell_type": "code",
      "source": [
        "import datetime\n",
        "import time\n",
        "\n",
        "data = {}\n",
        "n_days = 9\n",
        "date = datetime.datetime.now()\n",
        "fail_count = 0\n",
        "allow_continuous_fail_count = 5\n",
        "while len(data) < n_days:\n",
        "\n",
        "    print('parsing', date)\n",
        "    # 使用 crawPrice 爬資料\n",
        "    try:\n",
        "        # 抓資料\n",
        "        data[date.date()] = crawl_price(date)\n",
        "        print('success!')\n",
        "        fail_count = 0\n",
        "    except:\n",
        "        # 假日爬不到\n",
        "        print('fail! check the date is holiday')\n",
        "        fail_count += 1\n",
        "        if fail_count == allow_continuous_fail_count:\n",
        "            raise\n",
        "            break\n",
        "\n",
        "    # 減一天\n",
        "    date -= datetime.timedelta(days=1)\n",
        "    time.sleep(10)"
      ],
      "metadata": {
        "colab": {
          "base_uri": "https://localhost:8080/",
          "height": 423
        },
        "id": "fcx4nO3P07Ud",
        "outputId": "264e0231-fd79-41ab-cdb5-1fd8da42e6cd"
      },
      "execution_count": 7,
      "outputs": [
        {
          "output_type": "stream",
          "name": "stdout",
          "text": [
            "parsing 2023-07-18 02:35:39.260180\n",
            "fail! check the date is holiday\n",
            "parsing 2023-07-17 02:35:39.260180\n",
            "fail! check the date is holiday\n",
            "parsing 2023-07-16 02:35:39.260180\n",
            "fail! check the date is holiday\n",
            "parsing 2023-07-15 02:35:39.260180\n",
            "fail! check the date is holiday\n",
            "parsing 2023-07-14 02:35:39.260180\n",
            "fail! check the date is holiday\n"
          ]
        },
        {
          "output_type": "error",
          "ename": "NameError",
          "evalue": "ignored",
          "traceback": [
            "\u001b[0;31m---------------------------------------------------------------------------\u001b[0m",
            "\u001b[0;31mNameError\u001b[0m                                 Traceback (most recent call last)",
            "\u001b[0;32m<ipython-input-7-aeb33f6aab13>\u001b[0m in \u001b[0;36m<cell line: 9>\u001b[0;34m()\u001b[0m\n\u001b[1;32m     13\u001b[0m     \u001b[0;32mtry\u001b[0m\u001b[0;34m:\u001b[0m\u001b[0;34m\u001b[0m\u001b[0;34m\u001b[0m\u001b[0m\n\u001b[1;32m     14\u001b[0m         \u001b[0;31m# 抓資料\u001b[0m\u001b[0;34m\u001b[0m\u001b[0;34m\u001b[0m\u001b[0m\n\u001b[0;32m---> 15\u001b[0;31m         \u001b[0mdata\u001b[0m\u001b[0;34m[\u001b[0m\u001b[0mdate\u001b[0m\u001b[0;34m.\u001b[0m\u001b[0mdate\u001b[0m\u001b[0;34m(\u001b[0m\u001b[0;34m)\u001b[0m\u001b[0;34m]\u001b[0m \u001b[0;34m=\u001b[0m \u001b[0mcrawl_price\u001b[0m\u001b[0;34m(\u001b[0m\u001b[0mdate\u001b[0m\u001b[0;34m)\u001b[0m\u001b[0;34m\u001b[0m\u001b[0;34m\u001b[0m\u001b[0m\n\u001b[0m\u001b[1;32m     16\u001b[0m         \u001b[0mprint\u001b[0m\u001b[0;34m(\u001b[0m\u001b[0;34m'success!'\u001b[0m\u001b[0;34m)\u001b[0m\u001b[0;34m\u001b[0m\u001b[0;34m\u001b[0m\u001b[0m\n\u001b[1;32m     17\u001b[0m         \u001b[0mfail_count\u001b[0m \u001b[0;34m=\u001b[0m \u001b[0;36m0\u001b[0m\u001b[0;34m\u001b[0m\u001b[0;34m\u001b[0m\u001b[0m\n",
            "\u001b[0;31mNameError\u001b[0m: name 'crawl_price' is not defined"
          ]
        }
      ]
    },
    {
      "cell_type": "markdown",
      "source": [
        "https://www.finlab.tw/python-%E6%99%82%E9%96%93%E5%BA%8F%E5%88%97%E5%AF%A6%E4%BD%9C%EF%BC%81/"
      ],
      "metadata": {
        "id": "pw2C0toC3DD1"
      }
    }
  ]
}